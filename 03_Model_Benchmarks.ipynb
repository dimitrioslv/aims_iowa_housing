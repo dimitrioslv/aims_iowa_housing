{
 "cells": [
  {
   "cell_type": "code",
   "execution_count": 19,
   "id": "6cab8d30-5f2c-45e7-8811-678c2ac2c198",
   "metadata": {},
   "outputs": [],
   "source": [
    "# Imports\n",
    "\n",
    "import pandas as pd\n",
    "import numpy as np\n",
    "from sklearn.linear_model import LinearRegression, LassoCV, RidgeCV, Ridge,Lasso\n",
    "from sklearn.model_selection import train_test_split, cross_val_score\n",
    "from sklearn.preprocessing import StandardScaler\n"
   ]
  },
  {
   "cell_type": "code",
   "execution_count": 20,
   "id": "e8b78f34-b91c-4379-aaf5-a2d15fe72f03",
   "metadata": {},
   "outputs": [],
   "source": [
    "# Reading in the data\n",
    "\n",
    "train = pd.read_csv('./datasets/train_eng.csv')"
   ]
  },
  {
   "cell_type": "markdown",
   "id": "a46d813e-5e40-4705-b668-f7dd3b0c3941",
   "metadata": {},
   "source": [
    "## Baseline Score and Linear Model"
   ]
  },
  {
   "cell_type": "markdown",
   "id": "5a53df30-f765-452b-9c93-37aec61d3aa4",
   "metadata": {},
   "source": [
    "- Without removing any features that were orginally in the dataset or that I had created, I wanted to examine the baseline score for several different models; OLS, Ridge and Lasso."
   ]
  },
  {
   "cell_type": "code",
   "execution_count": 21,
   "id": "68e3cc60-df95-42f0-b126-474cfdccbbbb",
   "metadata": {},
   "outputs": [],
   "source": [
    "#Baseline features\n",
    "\n",
    "features = [col for col in train.select_dtypes(exclude=['object']).columns if col != 'SalePrice']\n",
    "features.remove('Id')\n",
    "features.remove('PID')\n",
    "\n",
    "X = train[features]\n",
    "y = train['SalePrice']"
   ]
  },
  {
   "cell_type": "code",
   "execution_count": 62,
   "id": "4ec7aaf2-4919-4c5c-a96e-a233d52397ff",
   "metadata": {},
   "outputs": [],
   "source": [
    "# Splitting the training data into it's own train-test-split\n",
    "\n",
    "X_train, X_test, y_train, y_test = train_test_split(X, y, random_state = 44)"
   ]
  },
  {
   "cell_type": "code",
   "execution_count": 63,
   "id": "12bf5493-cdc4-4cab-9ec6-cc321fe84a73",
   "metadata": {},
   "outputs": [],
   "source": [
    "# Scaling the data, considering we'll be using regularization later and certain variables need it\n",
    "\n",
    "ss = StandardScaler()\n",
    "\n",
    "Z_train = ss.fit_transform(X_train)\n",
    "Z_test = ss.transform(X_test)"
   ]
  },
  {
   "cell_type": "code",
   "execution_count": 72,
   "id": "e9b843d2-e573-4f12-b68f-3993454eb868",
   "metadata": {},
   "outputs": [
    {
     "name": "stdout",
     "output_type": "stream",
     "text": [
      "-149882816262269.9 299765632524541.56\n"
     ]
    }
   ],
   "source": [
    "# Cross evaluation score (baseline) of a linear regression model with the data\n",
    "\n",
    "lr = LinearRegression()\n",
    "lr_scores = cross_val_score(lr, Z_train, y_train, cv=5)\n",
    "print(lr_scores.mean(), lr_scores.std())"
   ]
  },
  {
   "cell_type": "code",
   "execution_count": 65,
   "id": "b3d59a59-16aa-49ec-9c06-81ac31e7a5b0",
   "metadata": {},
   "outputs": [
    {
     "data": {
      "text/plain": [
       "LinearRegression()"
      ]
     },
     "execution_count": 65,
     "metadata": {},
     "output_type": "execute_result"
    }
   ],
   "source": [
    "# Fitting the model and scoring it on the train and test data derived from the 'train' dataset\n",
    "# Couldn't find the number that was making my cross_val_score so ridiculous, moving on to fitting and will tune model later.\n",
    "lr.fit(Z_train, y_train)"
   ]
  },
  {
   "cell_type": "code",
   "execution_count": 66,
   "id": "e8db7a79-c624-4bce-a0d2-d0192817ab9b",
   "metadata": {},
   "outputs": [
    {
     "name": "stdout",
     "output_type": "stream",
     "text": [
      "Training OLS score: 0.9055944594300793\n",
      "Testing OLS score: 0.8986651723239815\n"
     ]
    }
   ],
   "source": [
    "print(\"Training OLS score:\", lr.score(Z_train, y_train))\n",
    "print(\"Testing OLS score:\", lr.score(Z_test, y_test))"
   ]
  },
  {
   "cell_type": "markdown",
   "id": "007fbea4-824a-4079-ad25-cdbadb77b911",
   "metadata": {},
   "source": [
    "## Next Step: Regularization (Lasso and Ridge)"
   ]
  },
  {
   "cell_type": "markdown",
   "id": "8e9d4cc5-b1fd-4537-abf6-8a2d20a22df0",
   "metadata": {},
   "source": [
    "### Ridge Regression"
   ]
  },
  {
   "cell_type": "code",
   "execution_count": 27,
   "id": "2e5938a1-5906-44d6-8ec3-77b1a927a875",
   "metadata": {},
   "outputs": [
    {
     "name": "stdout",
     "output_type": "stream",
     "text": [
      "Training Ridge score: 0.9052106024047347\n",
      "Testing Ridge score: 0.8981286187906979\n"
     ]
    }
   ],
   "source": [
    "ridge_model = Ridge(alpha=10)\n",
    "ridge_model.fit(Z_train, y_train)\n",
    "print(\"Training Ridge score:\", ridge_model.score(Z_train, y_train))\n",
    "print(\"Testing Ridge score:\", ridge_model.score(Z_test, y_test))"
   ]
  },
  {
   "cell_type": "code",
   "execution_count": 28,
   "id": "205e3062-6984-472a-bc61-b99f637f9a20",
   "metadata": {},
   "outputs": [
    {
     "data": {
      "text/plain": [
       "RidgeCV(alphas=array([1.00000000e+00, 1.12332403e+00, 1.26185688e+00, 1.41747416e+00,\n",
       "       1.59228279e+00, 1.78864953e+00, 2.00923300e+00, 2.25701972e+00,\n",
       "       2.53536449e+00, 2.84803587e+00, 3.19926714e+00, 3.59381366e+00,\n",
       "       4.03701726e+00, 4.53487851e+00, 5.09413801e+00, 5.72236766e+00,\n",
       "       6.42807312e+00, 7.22080902e+00, 8.11130831e+00, 9.11162756e+00,\n",
       "       1.02353102e+01, 1.14975700e+0...\n",
       "       6.89261210e+03, 7.74263683e+03, 8.69749003e+03, 9.77009957e+03,\n",
       "       1.09749877e+04, 1.23284674e+04, 1.38488637e+04, 1.55567614e+04,\n",
       "       1.74752840e+04, 1.96304065e+04, 2.20513074e+04, 2.47707636e+04,\n",
       "       2.78255940e+04, 3.12571585e+04, 3.51119173e+04, 3.94420606e+04,\n",
       "       4.43062146e+04, 4.97702356e+04, 5.59081018e+04, 6.28029144e+04,\n",
       "       7.05480231e+04, 7.92482898e+04, 8.90215085e+04, 1.00000000e+05]),\n",
       "        cv=5, scoring='r2')"
      ]
     },
     "execution_count": 28,
     "metadata": {},
     "output_type": "execute_result"
    }
   ],
   "source": [
    "r_alpha = np.logspace(0,5,100)\n",
    "\n",
    "# Cross-validate over our list of ridge alphas.\n",
    "ridge_cv = RidgeCV(alphas = r_alpha, scoring = 'r2', cv = 5)\n",
    "\n",
    "# Fit model using best ridge alpha!\n",
    "ridge_cv.fit(Z_train, y_train)"
   ]
  },
  {
   "cell_type": "code",
   "execution_count": 29,
   "id": "ec48a063-c801-4921-af14-6bf00bf3c05f",
   "metadata": {},
   "outputs": [
    {
     "data": {
      "text/plain": [
       "29.150530628251758"
      ]
     },
     "execution_count": 29,
     "metadata": {},
     "output_type": "execute_result"
    }
   ],
   "source": [
    "ridge_cv.alpha_"
   ]
  },
  {
   "cell_type": "code",
   "execution_count": 30,
   "id": "59b435c8-ee50-4bb8-97b5-71bb41987638",
   "metadata": {},
   "outputs": [
    {
     "name": "stdout",
     "output_type": "stream",
     "text": [
      "0.904584254692416\n",
      "0.8974301604887753\n"
     ]
    }
   ],
   "source": [
    "print(ridge_cv.score(Z_train, y_train))\n",
    "print(ridge_cv.score(Z_test, y_test))"
   ]
  },
  {
   "cell_type": "markdown",
   "id": "afb51abc-0f57-4cae-ae5c-cfd94656fd7a",
   "metadata": {},
   "source": [
    "### Lasso Regression"
   ]
  },
  {
   "cell_type": "code",
   "execution_count": 31,
   "id": "98d8d430-b379-4744-aaa4-548c8600fd3f",
   "metadata": {},
   "outputs": [
    {
     "data": {
      "text/plain": [
       "LassoCV(alphas=array([1.00000000e+00, 1.03517796e+00, 1.07159340e+00, 1.10928986e+00,\n",
       "       1.14831241e+00, 1.18870770e+00, 1.23052400e+00, 1.27381132e+00,\n",
       "       1.31862140e+00, 1.36500781e+00, 1.41302599e+00, 1.46273336e+00,\n",
       "       1.51418933e+00, 1.56745541e+00, 1.62259529e+00, 1.67967487e+00,\n",
       "       1.73876240e+00, 1.79992851e+00, 1.86324631e+00, 1.92879151e+00,\n",
       "       1.99664245e+00, 2.06688025e+0...\n",
       "       4.51496777e+14, 4.67379511e+14, 4.83820966e+14, 5.00840799e+14,\n",
       "       5.18459354e+14, 5.36697695e+14, 5.55577622e+14, 5.75121707e+14,\n",
       "       5.95353313e+14, 6.16296626e+14, 6.37976681e+14, 6.60419396e+14,\n",
       "       6.83651600e+14, 7.07701066e+14, 7.32596543e+14, 7.58367791e+14,\n",
       "       7.85045620e+14, 8.12661920e+14, 8.41249705e+14, 8.70843150e+14,\n",
       "       9.01477631e+14, 9.33189772e+14, 9.66017480e+14, 1.00000000e+15]),\n",
       "        max_iter=1000000.0)"
      ]
     },
     "execution_count": 31,
     "metadata": {},
     "output_type": "execute_result"
    }
   ],
   "source": [
    "# Set up a list of Lasso alphas to check.\n",
    "l_alphas = np.logspace(0,15,1000)\n",
    "\n",
    "# Cross-validate over our list of Lasso alphas.\n",
    "lasso_cv = LassoCV(alphas = l_alphas, max_iter=10e5)\n",
    "\n",
    "# Fit model using best ridge alpha!\n",
    "lasso_cv.fit(Z_train, y_train)"
   ]
  },
  {
   "cell_type": "code",
   "execution_count": 32,
   "id": "4b63dcad-2686-4be5-bfc6-a444da653c6c",
   "metadata": {},
   "outputs": [
    {
     "data": {
      "text/plain": [
       "114.03996019700331"
      ]
     },
     "execution_count": 32,
     "metadata": {},
     "output_type": "execute_result"
    }
   ],
   "source": [
    "lasso_cv.alpha_"
   ]
  },
  {
   "cell_type": "code",
   "execution_count": 33,
   "id": "059c9b66-ffa5-4638-aea3-f6bf8828de05",
   "metadata": {},
   "outputs": [
    {
     "name": "stdout",
     "output_type": "stream",
     "text": [
      "0.9045125126979532\n",
      "0.8970302754472178\n"
     ]
    }
   ],
   "source": [
    "print(lasso_cv.score(Z_train, y_train))\n",
    "print(lasso_cv.score(Z_test, y_test))"
   ]
  },
  {
   "cell_type": "markdown",
   "id": "f4f21b14-03a9-493a-8143-d27abed72387",
   "metadata": {},
   "source": [
    "## Summary"
   ]
  },
  {
   "cell_type": "code",
   "execution_count": 34,
   "id": "294f16e8-677f-41e3-bde4-89c875a5de83",
   "metadata": {},
   "outputs": [
    {
     "data": {
      "text/plain": [
       "array([-3500.93690385,  2769.9884128 ,  3309.84959526,  -534.68090863,\n",
       "       14164.87184796,  5781.77388338,  6679.20344512,   581.80563531,\n",
       "        4480.10750912,  5712.86546057, -2464.29206064, -3255.00634785,\n",
       "       -8629.30795702,  3989.61474977, -2520.01293296,  6037.7036877 ,\n",
       "         548.39646494,  -173.63834894,  1743.02411009,  7449.07621941,\n",
       "        1773.97977837, -1565.66440992,  8412.5816016 ,  8962.10788088,\n",
       "          63.77949634, 14404.98213965,  1338.61878714,  -700.01328936,\n",
       "       -1168.33673824, -3927.75935821, -3606.41292003, -2497.68823943,\n",
       "        4813.45501434,  2855.6000389 ,  3952.62600422, -5355.92504281,\n",
       "         265.25945619,  3305.17282601,  -750.8966911 ,  -388.18119883,\n",
       "        -488.33954033,  6366.99463218,  1757.15122002, -2525.70735204,\n",
       "        2219.09062938,   101.88931495,   279.74123408,   423.3138835 ,\n",
       "        3572.94238346, -2645.29194908,  1982.9550014 ,  -302.0009938 ,\n",
       "          16.19253531,  -180.22683679,   393.8257038 , -1093.96040298,\n",
       "        -581.80563531, -1158.62005265, -3560.12805966,  1245.62312799,\n",
       "       -3911.2894684 ,  3426.38081011, 11767.72629106,  1035.76847425,\n",
       "         390.31160594,  8853.07371338,   570.89885052,  5604.19672284,\n",
       "        -253.81421507,  5695.71913503])"
      ]
     },
     "execution_count": 34,
     "metadata": {},
     "output_type": "execute_result"
    }
   ],
   "source": [
    "ridge_cv.coef_"
   ]
  },
  {
   "cell_type": "code",
   "execution_count": 35,
   "id": "7cfa86f5-a75f-417a-87c8-f603fa5f71ed",
   "metadata": {},
   "outputs": [
    {
     "data": {
      "text/plain": [
       "array([-3619.40161254,  2726.80223367,  3251.14107333,  -397.5065467 ,\n",
       "       14574.06855863,  5897.74568464,  6300.81338828,    59.27631862,\n",
       "        4351.9888944 ,  8461.34651556,  -421.98732486, -4080.29639065,\n",
       "       -9285.19182378,  4027.81416101, -2384.25813472,  6198.02062545,\n",
       "         255.97847648,     0.        ,     0.        ,  9322.10448432,\n",
       "        1621.35433947, -1478.49329299,    98.44041124,     0.        ,\n",
       "        -823.05970296, 25763.75552116,  1173.1054339 ,  -590.69070829,\n",
       "       -1150.67667693, -3596.58503428, -3429.65951261, -2060.07843637,\n",
       "        4888.54419537,  2018.19698138,  3849.66182023, -5916.96663224,\n",
       "          -0.        ,  3032.46575839,   -81.10056983,  -108.95345022,\n",
       "          -0.        ,  5820.95482515,   859.14344588,  -906.73693232,\n",
       "        2028.94829613,     0.        ,    84.00061171,   356.51135465,\n",
       "        3430.70669022, -1919.32640966,  1876.01912234,  -118.99979128,\n",
       "          -0.        ,   -53.55688646,   291.22184875, -1006.69027529,\n",
       "        -691.14752404, -1139.53743776, -3469.6400208 ,  1235.77716832,\n",
       "       -3639.96485677,     0.        , 13242.13129499,     0.        ,\n",
       "          -0.        ,  9674.20656199,     0.        ,  5038.80468585,\n",
       "           0.        ,  3643.33301189])"
      ]
     },
     "execution_count": 35,
     "metadata": {},
     "output_type": "execute_result"
    }
   ],
   "source": [
    "lasso_cv.coef_"
   ]
  },
  {
   "cell_type": "code",
   "execution_count": 36,
   "id": "04f3067c-9f5d-4e97-b961-b5047138c13d",
   "metadata": {},
   "outputs": [
    {
     "name": "stdout",
     "output_type": "stream",
     "text": [
      "====== OLS =======\n",
      "0.9055944594300793\n",
      "0.8986651723239815\n",
      "\n",
      "===== Ridge ======\n",
      "0.904584254692416\n",
      "0.8974301604887753\n",
      "\n",
      "===== Lasso ======\n",
      "0.9045125126979532\n",
      "0.8970302754472178\n"
     ]
    }
   ],
   "source": [
    "print(\" OLS \".center(18, \"=\"))\n",
    "print(lr.score(Z_train, y_train))\n",
    "print(lr.score(Z_test, y_test))\n",
    "print()\n",
    "print(\" Ridge \".center(18, \"=\"))\n",
    "print(ridge_cv.score(Z_train, y_train))\n",
    "print(ridge_cv.score(Z_test, y_test))\n",
    "print()\n",
    "print(\" Lasso \".center(18, \"=\"))\n",
    "print(lasso_cv.score(Z_train, y_train))\n",
    "print(lasso_cv.score(Z_test, y_test))"
   ]
  },
  {
   "cell_type": "code",
   "execution_count": null,
   "id": "8f6c70b9-1ada-4900-bdcd-5bdce404935c",
   "metadata": {},
   "outputs": [],
   "source": []
  }
 ],
 "metadata": {
  "kernelspec": {
   "display_name": "Python 3 (ipykernel)",
   "language": "python",
   "name": "python3"
  },
  "language_info": {
   "codemirror_mode": {
    "name": "ipython",
    "version": 3
   },
   "file_extension": ".py",
   "mimetype": "text/x-python",
   "name": "python",
   "nbconvert_exporter": "python",
   "pygments_lexer": "ipython3",
   "version": "3.8.8"
  }
 },
 "nbformat": 4,
 "nbformat_minor": 5
}
