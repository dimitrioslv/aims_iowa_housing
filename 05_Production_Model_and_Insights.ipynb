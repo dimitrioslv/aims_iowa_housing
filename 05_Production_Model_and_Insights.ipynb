{
 "cells": [
  {
   "cell_type": "code",
   "execution_count": 31,
   "id": "5af42734-4eee-4f8f-a727-681e45c448c4",
   "metadata": {},
   "outputs": [],
   "source": [
    "# Imports\n",
    "\n",
    "import pandas as pd\n",
    "import numpy as np\n",
    "\n",
    "from sklearn.linear_model import LinearRegression, LassoCV, RidgeCV, Ridge,Lasso\n",
    "from sklearn.model_selection import train_test_split, cross_val_score\n",
    "from sklearn.preprocessing import StandardScaler, PolynomialFeatures\n",
    "import pickle\n"
   ]
  },
  {
   "cell_type": "code",
   "execution_count": 32,
   "id": "a01cddd0-731e-4bc2-ab75-95d9e07db223",
   "metadata": {},
   "outputs": [],
   "source": [
    "# Read in test data\n",
    "\n",
    "test = pd.read_csv('./datasets/test_eng.csv')"
   ]
  },
  {
   "cell_type": "markdown",
   "id": "b2e43af2-ce2a-4a38-b695-ac77d8a7fd08",
   "metadata": {},
   "source": [
    "## Feature Removal from Testing Data"
   ]
  },
  {
   "cell_type": "code",
   "execution_count": 33,
   "id": "4f891c18-ab8c-49f0-a55e-8e6289c11ab6",
   "metadata": {},
   "outputs": [],
   "source": [
    "#Baseline features\n",
    "\n",
    "features = [col for col in test.select_dtypes(exclude=['object']).columns]\n",
    "\n",
    "# Removed before Poly\n",
    "features.remove('Id')\n",
    "features.remove('PID')\n",
    "features.remove('MS SubClass')\n",
    "features.remove('Alley')\n",
    "features.remove('BsmtFin Type 2')\n",
    "features.remove('Garage Type')\n",
    "features.remove('Garage Finish')\n",
    "features.remove('Garage Cars')\n",
    "features.remove('Fence')\n",
    "features.remove('Misc Feature')\n",
    "features.remove('Misc Val')\n",
    "features.remove('Mo Sold')\n",
    "features.remove('Yr Sold')\n",
    "features.remove('Year Built')\n",
    "features.remove('Year Remod/Add')\n",
    "features.remove('Functional')\n",
    "features.remove('Pool Area')\n",
    "features.remove('Pool QC')\n",
    "features.remove('3Ssn Porch')\n",
    "features.remove('Bsmt Half Bath')\n",
    "features.remove('Garage Yr Blt')\n",
    "features.remove('Garage Qual')\n",
    "features.remove('Exter Cond')\n",
    "features.remove('Bsmt Cond')\n",
    "features.remove('Amenities')\n",
    "features.remove('Garage')\n",
    "features.remove('Kitchen AbvGr')\n",
    "features.remove('Pool Overall')\n",
    "features.remove('Central Air')\n",
    "\n",
    "# Not Removed before Poly\n",
    "features.remove('Mas Vnr Area')\n",
    "features.remove('TotRms AbvGrd')\n",
    "features.remove('Garage Area')\n",
    "features.remove('Total Bsmt SF')\n",
    "features.remove('Overall Cond')\n",
    "features.remove('Bsmt Unf SF')\n",
    "features.remove('Bsmt Full Bath')\n",
    "features.remove('Half Bath')\n",
    "features.remove('Fireplace Qu')\n",
    "features.remove('Bsmt Qual')\n",
    "features.remove('Garage Cond')\n",
    "features.remove('Exter Qual')\n",
    "features.remove('Low Qual Fin SF')\n",
    "features.remove('BsmtFin SF 2')\n",
    "features.remove('1st Flr SF')\n",
    "features.remove('2nd Flr SF')\n",
    "features.remove('Bsmt Exposure')\n",
    "features.remove('BsmtFin Type 1')\n",
    "features.remove('BsmtFin SF 1')\n",
    "\n",
    "# Removed for Poly\n",
    "features.remove('Wood Deck SF')\n",
    "features.remove('Open Porch SF')\n",
    "features.remove('Enclosed Porch')\n",
    "features.remove('Screen Porch')\n",
    "features.remove('Heating QC')\n",
    "features.remove('Lot Frontage')\n",
    "features.remove('Fireplaces')\n",
    "\n",
    "X_test = test[features]"
   ]
  },
  {
   "cell_type": "markdown",
   "id": "4a195bdd-330f-47b1-922b-ae661618a147",
   "metadata": {},
   "source": [
    "## Transforming Testing Data"
   ]
  },
  {
   "cell_type": "code",
   "execution_count": 34,
   "id": "c461af9e-3833-4d48-9206-ba40b6a75974",
   "metadata": {},
   "outputs": [],
   "source": [
    "poly = PolynomialFeatures(include_bias = False)\n",
    "X_test_poly = poly.fit_transform(X_test)\n",
    "\n",
    "ss = StandardScaler()\n",
    "Z_test = ss.fit_transform(X_test_poly)"
   ]
  },
  {
   "cell_type": "code",
   "execution_count": 35,
   "id": "754a7575-0b7f-4fd5-ae4d-7f61b663fb35",
   "metadata": {},
   "outputs": [
    {
     "data": {
      "text/plain": [
       "LassoCV(alphas=array([1.00000000e+01, 1.23284674e+01, 1.51991108e+01, 1.87381742e+01,\n",
       "       2.31012970e+01, 2.84803587e+01, 3.51119173e+01, 4.32876128e+01,\n",
       "       5.33669923e+01, 6.57933225e+01, 8.11130831e+01, 1.00000000e+02,\n",
       "       1.23284674e+02, 1.51991108e+02, 1.87381742e+02, 2.31012970e+02,\n",
       "       2.84803587e+02, 3.51119173e+02, 4.32876128e+02, 5.33669923e+02,\n",
       "       6.57933225e+02, 8.11130831e+0...\n",
       "       8.11130831e+07, 1.00000000e+08, 1.23284674e+08, 1.51991108e+08,\n",
       "       1.87381742e+08, 2.31012970e+08, 2.84803587e+08, 3.51119173e+08,\n",
       "       4.32876128e+08, 5.33669923e+08, 6.57933225e+08, 8.11130831e+08,\n",
       "       1.00000000e+09, 1.23284674e+09, 1.51991108e+09, 1.87381742e+09,\n",
       "       2.31012970e+09, 2.84803587e+09, 3.51119173e+09, 4.32876128e+09,\n",
       "       5.33669923e+09, 6.57933225e+09, 8.11130831e+09, 1.00000000e+10]),\n",
       "        max_iter=500000, n_jobs=-1)"
      ]
     },
     "execution_count": 35,
     "metadata": {},
     "output_type": "execute_result"
    }
   ],
   "source": [
    "# Opening the pickled model file to use in this notebook\n",
    "\n",
    "with open('Lasso_model.pkl', 'rb') as file:  \n",
    "    Pickled_LAS_Model = pickle.load(file)\n",
    "\n",
    "Pickled_LAS_Model"
   ]
  },
  {
   "cell_type": "markdown",
   "id": "20f0b215-79a8-4174-bfd9-b689ebdddd58",
   "metadata": {},
   "source": [
    "## Predictions with Trained Model and Test Data"
   ]
  },
  {
   "cell_type": "code",
   "execution_count": 41,
   "id": "7215aab3-096f-44cc-be38-3a4ae6178248",
   "metadata": {},
   "outputs": [],
   "source": [
    "# Predicting the housing prices using the reloaded model\n",
    "Ypredict = Pickled_LAS_Model.predict(Z_test)  \n",
    "\n",
    "np_array = np.array(Ypredict.round(decimals = 2))\n",
    "pred_series = pd.Series(np_array)"
   ]
  },
  {
   "cell_type": "code",
   "execution_count": 37,
   "id": "93c7d8b8-15c9-412e-bff4-037f4d977968",
   "metadata": {},
   "outputs": [],
   "source": [
    "# Formating the predicted data into a DataFrame\n",
    "\n",
    "df = pd.concat({'Id': test['Id'], 'SalePrice': pred_series}, axis = 1)"
   ]
  },
  {
   "cell_type": "code",
   "execution_count": 38,
   "id": "169410e9-830f-4236-9ff1-b57407b8773c",
   "metadata": {},
   "outputs": [],
   "source": [
    "# Saving to csv for Kaggle submission\n",
    "\n",
    "df.to_csv('./datasets/submission_lasso.csv', index = False)"
   ]
  },
  {
   "cell_type": "code",
   "execution_count": null,
   "id": "bc0f5444-dbfc-454f-8124-7a43cc6eb348",
   "metadata": {},
   "outputs": [],
   "source": []
  }
 ],
 "metadata": {
  "kernelspec": {
   "display_name": "Python 3 (ipykernel)",
   "language": "python",
   "name": "python3"
  },
  "language_info": {
   "codemirror_mode": {
    "name": "ipython",
    "version": 3
   },
   "file_extension": ".py",
   "mimetype": "text/x-python",
   "name": "python",
   "nbconvert_exporter": "python",
   "pygments_lexer": "ipython3",
   "version": "3.8.8"
  }
 },
 "nbformat": 4,
 "nbformat_minor": 5
}
